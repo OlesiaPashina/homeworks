{
 "cells": [
  {
   "cell_type": "code",
   "execution_count": 4,
   "id": "0be57f9c-a5fb-4ca6-b8cc-3b0534aaee3f",
   "metadata": {},
   "outputs": [],
   "source": [
    "import requests\n",
    "from bs4 import BeautifulSoup\n",
    "import pandas as pd\n",
    "from tqdm import tqdm"
   ]
  },
  {
   "cell_type": "code",
   "execution_count": 6,
   "id": "0f0b7436-2ad7-4cb8-abae-280e3cffc553",
   "metadata": {},
   "outputs": [],
   "source": [
    "base_url = 'https://lifehacker.ru' # базовая часть ссылки, позже в цикле будем добавлять к ней пагинацию\n",
    "response = requests.get(\"https://lifehacker.ru/bezopasnye-gruppovye-zvonki-v-telegram/\") # получаем контент первой страиниц\n",
    "soup = BeautifulSoup(response.text, 'lxml') # инициализируем объект bs4 и задаем парсер lxml\n",
    "# response.text"
   ]
  },
  {
   "cell_type": "code",
   "execution_count": 8,
   "id": "8f54a4f0-da3d-491c-8767-001319b59a12",
   "metadata": {},
   "outputs": [
    {
     "data": {
      "text/plain": [
       "'Быстрые групповые звонки и заморозка аккаунта: для Telegram вышло большое обновление'"
      ]
     },
     "execution_count": 8,
     "metadata": {},
     "output_type": "execute_result"
    }
   ],
   "source": [
    "soup.find('h1', class_='article-card__title').text"
   ]
  },
  {
   "cell_type": "code",
   "execution_count": 10,
   "id": "00565a07-4132-4c4e-b14e-e4cf955f10e7",
   "metadata": {},
   "outputs": [
    {
     "data": {
      "text/plain": [
       "'Для Telegram вышло масштабное обновление. Одно из главных нововведений — возможность\\xa0создавать групповые звонки со сквозным шифрованием без необходимости добавлять участников в отдельную группу. В каждый такой звонок можно пригласить до 200 человек — по ссылке или QR-коду. Есть возможность проверить надёжность шифрования, сравнив эмодзи на экране.Изображение: TelegramПоявилась новая функция заморозки аккаунта. В случае ошибочной блокировки пользователь теперь может обжаловать решение, не покидая приложение. Аккаунт будет временно недоступен для общения, но сохранит доступ к подаче апелляции. Такая система должна упростить процесс восстановления профиля при ошибках модерации.Изображение: TelegramДля владельцев бизнес-аккаунтов в Telegram теперь доступна расширенная автоматизация. Помимо возможности использовать чат-ботов на базе ИИ, администраторы получили более 10 новых функций. Среди них — управление профилем, публикациями, историями, а также возможность дарить подарки напрямую через API. Эти изменения стали частью обновлённой платформы Telegram Business 2.0.Изображение: TelegramТакже появились новые жесты. На iOS и Android теперь можно быстро пересылать сообщения в «Избранное» или недавние чаты, зажав кнопку пересылки. А владельцы iPhone получили жест для моментального перехода к созданию истории — достаточно потянуть за полоску историй вправо.Кроме того, Telegram обновил настройки подарков. В поле ввода можно добавить иконку подарка, а в разделе конфиденциальности — настроить, какие виды подарков видны в профиле и кто может их отправлять. Пользователи Premium могут фильтровать категории подарков — например, разрешив приём только редких или уникальных.Новости технологий📱OpenAI сделала ChatGPT менее «льстивым и раздражающим»Представлена беспроводная мышка ESR MagMouse с магнитным креплением — её можно носить на крышке ноутбукаИИ-сервис Google для превращения текстов в подкасты теперь поддерживает русский язык'"
      ]
     },
     "execution_count": 10,
     "metadata": {},
     "output_type": "execute_result"
    }
   ],
   "source": [
    "soup.find('article', class_=\"single-article__post-content single-article__content-container\").text"
   ]
  },
  {
   "cell_type": "code",
   "execution_count": 12,
   "id": "c29c547a-5535-4e75-83ef-4bb140708add",
   "metadata": {},
   "outputs": [],
   "source": [
    "base_url = 'https://lifehacker.ru' # базовая часть ссылки, позже в цикле будем добавлять к ней пагинацию\n",
    "response = requests.get(\"https://lifehacker.ru/topics/technology/?page=1\") # получаем контент первой страиниц\n",
    "soup = BeautifulSoup(response.text, 'lxml') # инициализируем объект bs4 и задаем парсер lxml\n"
   ]
  },
  {
   "cell_type": "code",
   "execution_count": 14,
   "id": "fab943d2-58dd-4102-9bd5-3bae13de8a61",
   "metadata": {},
   "outputs": [
    {
     "data": {
      "text/plain": [
       "['/anons-realme-neo7-turbo',\n",
       " '/obzor-sberboom-home',\n",
       " '/interaktivnoe-ii-video-odyssey',\n",
       " '/ios-26-vmesto-ios-19',\n",
       " '/ii-funkcii-v-google-foto',\n",
       " '/anons-anker-soundcore-p41i',\n",
       " '/5-best-pocket-alternatives',\n",
       " '/chat-bot-grok-v-telegram',\n",
       " '/podderzhka-redmi-k40-pro',\n",
       " '/chatgpt',\n",
       " '/anons-opera-neon',\n",
       " '/dreame-roboticmower-a1-obzor',\n",
       " '/vxod-s-chatgpt',\n",
       " '/kamera-iphone-200-mp',\n",
       " '/brauzer-dia',\n",
       " '/anons-marshall-kilburn-iii',\n",
       " '/whatsapp-ipad',\n",
       " '/shlem-iz-nenyutonovskogo-materiala',\n",
       " '/vlagonepronicaemyi-smartfon-v-vannoi',\n",
       " '/anons-oneplus-ace-5-racing',\n",
       " '/anons-realme-gt-7-2',\n",
       " '/12-luchshix-50-dyujmovyx-televizorov',\n",
       " '/obzor-honor-400-lite',\n",
       " '/obezvozhivanie-ekran-smartfona',\n",
       " '/huawei-honor-oppo-i-vivo-ufcs-2-0',\n",
       " '/nejroseti-v-rukax-detej',\n",
       " '/anons-oneplus-buds-4',\n",
       " '/apps-for-android-camera',\n",
       " '/kak-pochistit-telefon']"
      ]
     },
     "execution_count": 14,
     "metadata": {},
     "output_type": "execute_result"
    }
   ],
   "source": [
    "raw_items = soup.find_all('a', class_=\"lh-article-card-controls__comments\")\n",
    "links = [item.get('href').replace('/#comments', '') for item in raw_items] # получаем у ссылок только href-атрибут, убираем подстроку '/comments'\n",
    "links"
   ]
  },
  {
   "cell_type": "code",
   "execution_count": 24,
   "id": "066d5620-219e-4edc-89a3-a8cebe190651",
   "metadata": {},
   "outputs": [
    {
     "name": "stdout",
     "output_type": "stream",
     "text": [
      "['/anons-realme-neo7-turbo', '/obzor-sberboom-home', '/interaktivnoe-ii-video-odyssey', '/ios-26-vmesto-ios-19', '/ii-funkcii-v-google-foto', '/anons-anker-soundcore-p41i', '/5-best-pocket-alternatives', '/chat-bot-grok-v-telegram', '/podderzhka-redmi-k40-pro', '/chatgpt', '/anons-opera-neon', '/dreame-roboticmower-a1-obzor', '/vxod-s-chatgpt', '/kamera-iphone-200-mp', '/brauzer-dia', '/anons-marshall-kilburn-iii', '/whatsapp-ipad', '/shlem-iz-nenyutonovskogo-materiala', '/vlagonepronicaemyi-smartfon-v-vannoi', '/anons-oneplus-ace-5-racing', '/anons-realme-gt-7-2', '/12-luchshix-50-dyujmovyx-televizorov', '/obzor-honor-400-lite', '/obezvozhivanie-ekran-smartfona', '/huawei-honor-oppo-i-vivo-ufcs-2-0', '/nejroseti-v-rukax-detej', '/anons-oneplus-buds-4', '/apps-for-android-camera', '/kak-pochistit-telefon', '/anons-realme-neo7-turbo', '/obzor-sberboom-home', '/interaktivnoe-ii-video-odyssey', '/ios-26-vmesto-ios-19', '/ii-funkcii-v-google-foto', '/anons-anker-soundcore-p41i', '/5-best-pocket-alternatives', '/chat-bot-grok-v-telegram', '/podderzhka-redmi-k40-pro', '/chatgpt', '/anons-opera-neon', '/dreame-roboticmower-a1-obzor', '/vxod-s-chatgpt', '/kamera-iphone-200-mp', '/brauzer-dia', '/anons-marshall-kilburn-iii', '/whatsapp-ipad', '/shlem-iz-nenyutonovskogo-materiala', '/vlagonepronicaemyi-smartfon-v-vannoi', '/anons-oneplus-ace-5-racing', '/anons-realme-gt-7-2', '/12-luchshix-50-dyujmovyx-televizorov', '/obzor-honor-400-lite', '/obezvozhivanie-ekran-smartfona', '/huawei-honor-oppo-i-vivo-ufcs-2-0', '/nejroseti-v-rukax-detej', '/anons-oneplus-buds-4', '/apps-for-android-camera', '/kak-pochistit-telefon', '/anons-realme-neo7-turbo', '/obzor-sberboom-home', '/interaktivnoe-ii-video-odyssey', '/ios-26-vmesto-ios-19', '/ii-funkcii-v-google-foto', '/anons-anker-soundcore-p41i', '/5-best-pocket-alternatives', '/chat-bot-grok-v-telegram', '/podderzhka-redmi-k40-pro', '/chatgpt', '/anons-opera-neon', '/dreame-roboticmower-a1-obzor', '/vxod-s-chatgpt', '/kamera-iphone-200-mp', '/brauzer-dia', '/anons-marshall-kilburn-iii', '/whatsapp-ipad', '/shlem-iz-nenyutonovskogo-materiala', '/vlagonepronicaemyi-smartfon-v-vannoi', '/anons-oneplus-ace-5-racing', '/anons-realme-gt-7-2', '/12-luchshix-50-dyujmovyx-televizorov', '/obzor-honor-400-lite', '/obezvozhivanie-ekran-smartfona', '/huawei-honor-oppo-i-vivo-ufcs-2-0', '/nejroseti-v-rukax-detej', '/anons-oneplus-buds-4', '/apps-for-android-camera', '/kak-pochistit-telefon', '/anons-realme-neo7-turbo', '/obzor-sberboom-home', '/interaktivnoe-ii-video-odyssey', '/ios-26-vmesto-ios-19', '/ii-funkcii-v-google-foto', '/anons-anker-soundcore-p41i', '/5-best-pocket-alternatives', '/chat-bot-grok-v-telegram', '/podderzhka-redmi-k40-pro', '/chatgpt', '/anons-opera-neon', '/dreame-roboticmower-a1-obzor', '/vxod-s-chatgpt', '/kamera-iphone-200-mp', '/brauzer-dia', '/anons-marshall-kilburn-iii', '/whatsapp-ipad', '/shlem-iz-nenyutonovskogo-materiala', '/vlagonepronicaemyi-smartfon-v-vannoi', '/anons-oneplus-ace-5-racing', '/anons-realme-gt-7-2', '/12-luchshix-50-dyujmovyx-televizorov', '/obzor-honor-400-lite', '/obezvozhivanie-ekran-smartfona', '/huawei-honor-oppo-i-vivo-ufcs-2-0', '/nejroseti-v-rukax-detej', '/anons-oneplus-buds-4', '/apps-for-android-camera', '/kak-pochistit-telefon', '/anons-realme-neo7-turbo', '/obzor-sberboom-home', '/interaktivnoe-ii-video-odyssey', '/ios-26-vmesto-ios-19', '/ii-funkcii-v-google-foto', '/anons-anker-soundcore-p41i', '/5-best-pocket-alternatives', '/chat-bot-grok-v-telegram', '/podderzhka-redmi-k40-pro', '/chatgpt', '/anons-opera-neon', '/dreame-roboticmower-a1-obzor', '/vxod-s-chatgpt', '/kamera-iphone-200-mp', '/brauzer-dia', '/anons-marshall-kilburn-iii', '/whatsapp-ipad', '/shlem-iz-nenyutonovskogo-materiala', '/vlagonepronicaemyi-smartfon-v-vannoi', '/anons-oneplus-ace-5-racing', '/anons-realme-gt-7-2', '/12-luchshix-50-dyujmovyx-televizorov', '/obzor-honor-400-lite', '/obezvozhivanie-ekran-smartfona', '/huawei-honor-oppo-i-vivo-ufcs-2-0', '/nejroseti-v-rukax-detej', '/anons-oneplus-buds-4', '/apps-for-android-camera', '/kak-pochistit-telefon', '/anons-realme-neo7-turbo', '/obzor-sberboom-home', '/interaktivnoe-ii-video-odyssey', '/ios-26-vmesto-ios-19', '/ii-funkcii-v-google-foto', '/anons-anker-soundcore-p41i', '/5-best-pocket-alternatives', '/chat-bot-grok-v-telegram', '/podderzhka-redmi-k40-pro', '/chatgpt', '/anons-opera-neon', '/dreame-roboticmower-a1-obzor', '/vxod-s-chatgpt', '/kamera-iphone-200-mp', '/brauzer-dia', '/anons-marshall-kilburn-iii', '/whatsapp-ipad', '/shlem-iz-nenyutonovskogo-materiala', '/vlagonepronicaemyi-smartfon-v-vannoi', '/anons-oneplus-ace-5-racing', '/anons-realme-gt-7-2', '/12-luchshix-50-dyujmovyx-televizorov', '/obzor-honor-400-lite', '/obezvozhivanie-ekran-smartfona', '/huawei-honor-oppo-i-vivo-ufcs-2-0', '/nejroseti-v-rukax-detej', '/anons-oneplus-buds-4', '/apps-for-android-camera', '/kak-pochistit-telefon', '/anons-realme-neo7-turbo', '/obzor-sberboom-home', '/interaktivnoe-ii-video-odyssey', '/ios-26-vmesto-ios-19', '/ii-funkcii-v-google-foto', '/anons-anker-soundcore-p41i', '/5-best-pocket-alternatives', '/chat-bot-grok-v-telegram', '/podderzhka-redmi-k40-pro', '/chatgpt', '/anons-opera-neon', '/dreame-roboticmower-a1-obzor', '/vxod-s-chatgpt', '/kamera-iphone-200-mp', '/brauzer-dia', '/anons-marshall-kilburn-iii', '/whatsapp-ipad', '/shlem-iz-nenyutonovskogo-materiala', '/vlagonepronicaemyi-smartfon-v-vannoi', '/anons-oneplus-ace-5-racing', '/anons-realme-gt-7-2', '/12-luchshix-50-dyujmovyx-televizorov', '/obzor-honor-400-lite', '/obezvozhivanie-ekran-smartfona', '/huawei-honor-oppo-i-vivo-ufcs-2-0', '/nejroseti-v-rukax-detej', '/anons-oneplus-buds-4', '/apps-for-android-camera', '/kak-pochistit-telefon', '/anons-realme-neo7-turbo', '/obzor-sberboom-home', '/interaktivnoe-ii-video-odyssey', '/ios-26-vmesto-ios-19', '/ii-funkcii-v-google-foto', '/anons-anker-soundcore-p41i', '/5-best-pocket-alternatives', '/chat-bot-grok-v-telegram', '/podderzhka-redmi-k40-pro', '/chatgpt', '/anons-opera-neon', '/dreame-roboticmower-a1-obzor', '/vxod-s-chatgpt', '/kamera-iphone-200-mp', '/brauzer-dia', '/anons-marshall-kilburn-iii', '/whatsapp-ipad', '/shlem-iz-nenyutonovskogo-materiala', '/vlagonepronicaemyi-smartfon-v-vannoi', '/anons-oneplus-ace-5-racing', '/anons-realme-gt-7-2', '/12-luchshix-50-dyujmovyx-televizorov', '/obzor-honor-400-lite', '/obezvozhivanie-ekran-smartfona', '/huawei-honor-oppo-i-vivo-ufcs-2-0', '/nejroseti-v-rukax-detej', '/anons-oneplus-buds-4', '/apps-for-android-camera', '/kak-pochistit-telefon', '/anons-realme-neo7-turbo', '/obzor-sberboom-home', '/interaktivnoe-ii-video-odyssey', '/ios-26-vmesto-ios-19', '/ii-funkcii-v-google-foto', '/anons-anker-soundcore-p41i', '/5-best-pocket-alternatives', '/chat-bot-grok-v-telegram', '/podderzhka-redmi-k40-pro', '/chatgpt', '/anons-opera-neon', '/dreame-roboticmower-a1-obzor', '/vxod-s-chatgpt', '/kamera-iphone-200-mp', '/brauzer-dia', '/anons-marshall-kilburn-iii', '/whatsapp-ipad', '/shlem-iz-nenyutonovskogo-materiala', '/vlagonepronicaemyi-smartfon-v-vannoi', '/anons-oneplus-ace-5-racing', '/anons-realme-gt-7-2', '/12-luchshix-50-dyujmovyx-televizorov', '/obzor-honor-400-lite', '/obezvozhivanie-ekran-smartfona', '/huawei-honor-oppo-i-vivo-ufcs-2-0', '/nejroseti-v-rukax-detej', '/anons-oneplus-buds-4', '/apps-for-android-camera', '/kak-pochistit-telefon']\n"
     ]
    }
   ],
   "source": [
    "parsed_urls = []\n",
    "for page_num in range(1, 10):\n",
    "    url = f'{base_url}/topics/technology/?/page={page_num}' # подставляем нужный номер страницы для пагинации, дальше парсим каждую страницу аналогично коду выше\n",
    "    response = requests.get(url)\n",
    "    soup = BeautifulSoup(response.text, 'lxml')\n",
    "    raw_items = soup.find_all('a', class_=\"lh-article-card-controls__comments\")\n",
    "    parsed_urls += [item.get('href').replace('/#comments', '') for item in raw_items]\n",
    "print(parsed_urls)"
   ]
  },
  {
   "cell_type": "code",
   "execution_count": 26,
   "id": "23bf1501-f2b8-4bcd-851f-1aa9aa63d284",
   "metadata": {},
   "outputs": [
    {
     "name": "stderr",
     "output_type": "stream",
     "text": [
      "100%|██████████| 261/261 [07:27<00:00,  1.72s/it]\n"
     ]
    }
   ],
   "source": [
    "result = []\n",
    "#parsed_urls = ['/bezopasnye-gruppovye-zvonki-v-telegram/']\n",
    "for url in tqdm(parsed_urls):\n",
    "    article = {}\n",
    "\n",
    "    article_url = f'{base_url}{url}' # подставляем часть ссылки, ведущую материал\n",
    "    response = requests.get(article_url)\n",
    "    soup = BeautifulSoup(response.text, 'lxml')\n",
    "\n",
    "    article['title'] = soup.find('h1', class_='article-card__title').text # Получаем заголовок\n",
    "    article['text'] = soup.find('article', class_=\"single-article__post-content single-article__content-container\").text # Получаем содержание\n",
    "\n",
    "    result.append(article)"
   ]
  },
  {
   "cell_type": "code",
   "execution_count": 20,
   "id": "38554fa2-8bf5-47ae-9cce-eb7b641aed12",
   "metadata": {},
   "outputs": [],
   "source": [
    "pd.set_option('display.max_colwidth', 400)"
   ]
  },
  {
   "cell_type": "code",
   "execution_count": 22,
   "id": "7b95f13c-f505-47ac-a479-aa6e0c0d82d4",
   "metadata": {},
   "outputs": [
    {
     "data": {
      "text/html": [
       "<div>\n",
       "<style scoped>\n",
       "    .dataframe tbody tr th:only-of-type {\n",
       "        vertical-align: middle;\n",
       "    }\n",
       "\n",
       "    .dataframe tbody tr th {\n",
       "        vertical-align: top;\n",
       "    }\n",
       "\n",
       "    .dataframe thead th {\n",
       "        text-align: right;\n",
       "    }\n",
       "</style>\n",
       "<table border=\"1\" class=\"dataframe\">\n",
       "  <thead>\n",
       "    <tr style=\"text-align: right;\">\n",
       "      <th></th>\n",
       "      <th>title</th>\n",
       "      <th>text</th>\n",
       "    </tr>\n",
       "  </thead>\n",
       "  <tbody>\n",
       "    <tr>\n",
       "      <th>0</th>\n",
       "      <td>Быстрые групповые звонки и заморозка аккаунта: для Telegram вышло большое обновление</td>\n",
       "      <td>Для Telegram вышло масштабное обновление. Одно из главных нововведений — возможность создавать групповые звонки со сквозным шифрованием без необходимости добавлять участников в отдельную группу. В каждый такой звонок можно пригласить до 200 человек — по ссылке или QR-коду. Есть возможность проверить надёжность шифрования, сравнив эмодзи на экране.Изображение: TelegramПоявилась новая функция за...</td>\n",
       "    </tr>\n",
       "  </tbody>\n",
       "</table>\n",
       "</div>"
      ],
      "text/plain": [
       "                                                                                  title  \\\n",
       "0  Быстрые групповые звонки и заморозка аккаунта: для Telegram вышло большое обновление   \n",
       "\n",
       "                                                                                                                                                                                                                                                                                                                                                                                                              text  \n",
       "0  Для Telegram вышло масштабное обновление. Одно из главных нововведений — возможность создавать групповые звонки со сквозным шифрованием без необходимости добавлять участников в отдельную группу. В каждый такой звонок можно пригласить до 200 человек — по ссылке или QR-коду. Есть возможность проверить надёжность шифрования, сравнив эмодзи на экране.Изображение: TelegramПоявилась новая функция за...  "
      ]
     },
     "execution_count": 22,
     "metadata": {},
     "output_type": "execute_result"
    }
   ],
   "source": [
    "data = pd.DataFrame(result)\n",
    "data.head()"
   ]
  }
 ],
 "metadata": {
  "kernelspec": {
   "display_name": "Python [conda env:base] *",
   "language": "python",
   "name": "conda-base-py"
  },
  "language_info": {
   "codemirror_mode": {
    "name": "ipython",
    "version": 3
   },
   "file_extension": ".py",
   "mimetype": "text/x-python",
   "name": "python",
   "nbconvert_exporter": "python",
   "pygments_lexer": "ipython3",
   "version": "3.12.7"
  }
 },
 "nbformat": 4,
 "nbformat_minor": 5
}
