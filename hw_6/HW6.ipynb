{
 "cells": [
  {
   "cell_type": "code",
   "execution_count": 562,
   "id": "58cc37df-e2ca-480e-bf4e-73bf02d24c57",
   "metadata": {},
   "outputs": [],
   "source": [
    "import pandas as pd\n",
    "import matplotlib.pyplot as plt\n",
    "import seaborn as sns\n",
    "import numpy as np"
   ]
  },
  {
   "cell_type": "code",
   "execution_count": 563,
   "id": "97d81e91-11d2-4961-8ad9-72ce61f81db5",
   "metadata": {},
   "outputs": [
    {
     "data": {
      "text/html": [
       "<div>\n",
       "<style scoped>\n",
       "    .dataframe tbody tr th:only-of-type {\n",
       "        vertical-align: middle;\n",
       "    }\n",
       "\n",
       "    .dataframe tbody tr th {\n",
       "        vertical-align: top;\n",
       "    }\n",
       "\n",
       "    .dataframe thead th {\n",
       "        text-align: right;\n",
       "    }\n",
       "</style>\n",
       "<table border=\"1\" class=\"dataframe\">\n",
       "  <thead>\n",
       "    <tr style=\"text-align: right;\">\n",
       "      <th></th>\n",
       "      <th>PassengerId</th>\n",
       "      <th>Survived</th>\n",
       "      <th>Pclass</th>\n",
       "      <th>Name</th>\n",
       "      <th>Sex</th>\n",
       "      <th>Age</th>\n",
       "      <th>SibSp</th>\n",
       "      <th>Parch</th>\n",
       "      <th>Ticket</th>\n",
       "      <th>Fare</th>\n",
       "      <th>Cabin</th>\n",
       "      <th>Embarked</th>\n",
       "    </tr>\n",
       "  </thead>\n",
       "  <tbody>\n",
       "    <tr>\n",
       "      <th>0</th>\n",
       "      <td>1</td>\n",
       "      <td>0</td>\n",
       "      <td>3</td>\n",
       "      <td>Braund, Mr. Owen Harris</td>\n",
       "      <td>male</td>\n",
       "      <td>22.0</td>\n",
       "      <td>1</td>\n",
       "      <td>0</td>\n",
       "      <td>A/5 21171</td>\n",
       "      <td>7.2500</td>\n",
       "      <td>NaN</td>\n",
       "      <td>S</td>\n",
       "    </tr>\n",
       "    <tr>\n",
       "      <th>1</th>\n",
       "      <td>2</td>\n",
       "      <td>1</td>\n",
       "      <td>1</td>\n",
       "      <td>Cumings, Mrs. John Bradley (Florence Briggs Th...</td>\n",
       "      <td>female</td>\n",
       "      <td>38.0</td>\n",
       "      <td>1</td>\n",
       "      <td>0</td>\n",
       "      <td>PC 17599</td>\n",
       "      <td>71.2833</td>\n",
       "      <td>C85</td>\n",
       "      <td>C</td>\n",
       "    </tr>\n",
       "    <tr>\n",
       "      <th>2</th>\n",
       "      <td>3</td>\n",
       "      <td>1</td>\n",
       "      <td>3</td>\n",
       "      <td>Heikkinen, Miss. Laina</td>\n",
       "      <td>female</td>\n",
       "      <td>26.0</td>\n",
       "      <td>0</td>\n",
       "      <td>0</td>\n",
       "      <td>STON/O2. 3101282</td>\n",
       "      <td>7.9250</td>\n",
       "      <td>NaN</td>\n",
       "      <td>S</td>\n",
       "    </tr>\n",
       "    <tr>\n",
       "      <th>3</th>\n",
       "      <td>4</td>\n",
       "      <td>1</td>\n",
       "      <td>1</td>\n",
       "      <td>Futrelle, Mrs. Jacques Heath (Lily May Peel)</td>\n",
       "      <td>female</td>\n",
       "      <td>35.0</td>\n",
       "      <td>1</td>\n",
       "      <td>0</td>\n",
       "      <td>113803</td>\n",
       "      <td>53.1000</td>\n",
       "      <td>C123</td>\n",
       "      <td>S</td>\n",
       "    </tr>\n",
       "    <tr>\n",
       "      <th>4</th>\n",
       "      <td>5</td>\n",
       "      <td>0</td>\n",
       "      <td>3</td>\n",
       "      <td>Allen, Mr. William Henry</td>\n",
       "      <td>male</td>\n",
       "      <td>35.0</td>\n",
       "      <td>0</td>\n",
       "      <td>0</td>\n",
       "      <td>373450</td>\n",
       "      <td>8.0500</td>\n",
       "      <td>NaN</td>\n",
       "      <td>S</td>\n",
       "    </tr>\n",
       "  </tbody>\n",
       "</table>\n",
       "</div>"
      ],
      "text/plain": [
       "   PassengerId  Survived  Pclass  \\\n",
       "0            1         0       3   \n",
       "1            2         1       1   \n",
       "2            3         1       3   \n",
       "3            4         1       1   \n",
       "4            5         0       3   \n",
       "\n",
       "                                                Name     Sex   Age  SibSp  \\\n",
       "0                            Braund, Mr. Owen Harris    male  22.0      1   \n",
       "1  Cumings, Mrs. John Bradley (Florence Briggs Th...  female  38.0      1   \n",
       "2                             Heikkinen, Miss. Laina  female  26.0      0   \n",
       "3       Futrelle, Mrs. Jacques Heath (Lily May Peel)  female  35.0      1   \n",
       "4                           Allen, Mr. William Henry    male  35.0      0   \n",
       "\n",
       "   Parch            Ticket     Fare Cabin Embarked  \n",
       "0      0         A/5 21171   7.2500   NaN        S  \n",
       "1      0          PC 17599  71.2833   C85        C  \n",
       "2      0  STON/O2. 3101282   7.9250   NaN        S  \n",
       "3      0            113803  53.1000  C123        S  \n",
       "4      0            373450   8.0500   NaN        S  "
      ]
     },
     "execution_count": 563,
     "metadata": {},
     "output_type": "execute_result"
    }
   ],
   "source": [
    "df = pd.read_csv('train.csv')\n",
    "df.head()"
   ]
  },
  {
   "cell_type": "code",
   "execution_count": 564,
   "id": "09465ca5-58b8-4033-8b3c-c7d8f9d94e25",
   "metadata": {},
   "outputs": [
    {
     "name": "stdout",
     "output_type": "stream",
     "text": [
      "<class 'pandas.core.frame.DataFrame'>\n",
      "RangeIndex: 891 entries, 0 to 890\n",
      "Data columns (total 12 columns):\n",
      " #   Column       Non-Null Count  Dtype  \n",
      "---  ------       --------------  -----  \n",
      " 0   PassengerId  891 non-null    int64  \n",
      " 1   Survived     891 non-null    int64  \n",
      " 2   Pclass       891 non-null    int64  \n",
      " 3   Name         891 non-null    object \n",
      " 4   Sex          891 non-null    object \n",
      " 5   Age          714 non-null    float64\n",
      " 6   SibSp        891 non-null    int64  \n",
      " 7   Parch        891 non-null    int64  \n",
      " 8   Ticket       891 non-null    object \n",
      " 9   Fare         891 non-null    float64\n",
      " 10  Cabin        204 non-null    object \n",
      " 11  Embarked     889 non-null    object \n",
      "dtypes: float64(2), int64(5), object(5)\n",
      "memory usage: 83.7+ KB\n"
     ]
    }
   ],
   "source": [
    "df.info()"
   ]
  },
  {
   "cell_type": "code",
   "execution_count": 565,
   "id": "63e2028c-c122-4c9a-9e7e-5cfccacf04b7",
   "metadata": {},
   "outputs": [
    {
     "data": {
      "image/png": "[encoded data removed]",
      "text/plain": [
       "<Figure size 640x480 with 1 Axes>"
      ]
     },
     "metadata": {},
     "output_type": "display_data"
    }
   ],
   "source": [
    "df2 = df['Survived'].value_counts()\n",
    "fig, ax = plt.subplots()\n",
    "x2 = ['Died', 'Survived']\n",
    "ax.bar(x = x2,\n",
    "       height = df2,\n",
    "       color=sns.color_palette('Set2'))\n",
    "ax.set_ylabel('Number of people')\n",
    "plt.title('Survival rate distribution')\n",
    "plt.show()"
   ]
  },
  {
   "cell_type": "markdown",
   "id": "a197459c-3907-4edb-b5f4-72b769076cdf",
   "metadata": {},
   "source": [
    "Классы немного несбалансированы, поскольку погибших людей в два раза больше выживших, поэтому логичнее будет исследовать такие метрики как f1-score, fbeta-score, roc-auc. Наилучшей в этом случае будет метрика F1-score, которая слабее всех чувствительная к дисбалансу классов. "
   ]
  },
  {
   "cell_type": "code",
   "execution_count": 567,
   "id": "95cac0d1-d1b8-40a2-a9ff-5b663ba2be1d",
   "metadata": {},
   "outputs": [
    {
     "data": {
      "text/html": [
       "<div>\n",
       "<style scoped>\n",
       "    .dataframe tbody tr th:only-of-type {\n",
       "        vertical-align: middle;\n",
       "    }\n",
       "\n",
       "    .dataframe tbody tr th {\n",
       "        vertical-align: top;\n",
       "    }\n",
       "\n",
       "    .dataframe thead th {\n",
       "        text-align: right;\n",
       "    }\n",
       "</style>\n",
       "<table border=\"1\" class=\"dataframe\">\n",
       "  <thead>\n",
       "    <tr style=\"text-align: right;\">\n",
       "      <th></th>\n",
       "      <th>Survived</th>\n",
       "      <th>Age</th>\n",
       "      <th>Sex_female</th>\n",
       "      <th>Sex_male</th>\n",
       "      <th>Pclass_1</th>\n",
       "      <th>Pclass_2</th>\n",
       "      <th>Pclass_3</th>\n",
       "      <th>Embarked_C</th>\n",
       "      <th>Embarked_Q</th>\n",
       "      <th>Embarked_S</th>\n",
       "    </tr>\n",
       "  </thead>\n",
       "  <tbody>\n",
       "    <tr>\n",
       "      <th>0</th>\n",
       "      <td>0</td>\n",
       "      <td>22.0</td>\n",
       "      <td>False</td>\n",
       "      <td>True</td>\n",
       "      <td>False</td>\n",
       "      <td>False</td>\n",
       "      <td>True</td>\n",
       "      <td>False</td>\n",
       "      <td>False</td>\n",
       "      <td>True</td>\n",
       "    </tr>\n",
       "    <tr>\n",
       "      <th>1</th>\n",
       "      <td>1</td>\n",
       "      <td>38.0</td>\n",
       "      <td>True</td>\n",
       "      <td>False</td>\n",
       "      <td>True</td>\n",
       "      <td>False</td>\n",
       "      <td>False</td>\n",
       "      <td>True</td>\n",
       "      <td>False</td>\n",
       "      <td>False</td>\n",
       "    </tr>\n",
       "    <tr>\n",
       "      <th>2</th>\n",
       "      <td>1</td>\n",
       "      <td>26.0</td>\n",
       "      <td>True</td>\n",
       "      <td>False</td>\n",
       "      <td>False</td>\n",
       "      <td>False</td>\n",
       "      <td>True</td>\n",
       "      <td>False</td>\n",
       "      <td>False</td>\n",
       "      <td>True</td>\n",
       "    </tr>\n",
       "    <tr>\n",
       "      <th>3</th>\n",
       "      <td>1</td>\n",
       "      <td>35.0</td>\n",
       "      <td>True</td>\n",
       "      <td>False</td>\n",
       "      <td>True</td>\n",
       "      <td>False</td>\n",
       "      <td>False</td>\n",
       "      <td>False</td>\n",
       "      <td>False</td>\n",
       "      <td>True</td>\n",
       "    </tr>\n",
       "    <tr>\n",
       "      <th>4</th>\n",
       "      <td>0</td>\n",
       "      <td>35.0</td>\n",
       "      <td>False</td>\n",
       "      <td>True</td>\n",
       "      <td>False</td>\n",
       "      <td>False</td>\n",
       "      <td>True</td>\n",
       "      <td>False</td>\n",
       "      <td>False</td>\n",
       "      <td>True</td>\n",
       "    </tr>\n",
       "  </tbody>\n",
       "</table>\n",
       "</div>"
      ],
      "text/plain": [
       "   Survived   Age  Sex_female  Sex_male  Pclass_1  Pclass_2  Pclass_3  \\\n",
       "0         0  22.0       False      True     False     False      True   \n",
       "1         1  38.0        True     False      True     False     False   \n",
       "2         1  26.0        True     False     False     False      True   \n",
       "3         1  35.0        True     False      True     False     False   \n",
       "4         0  35.0       False      True     False     False      True   \n",
       "\n",
       "   Embarked_C  Embarked_Q  Embarked_S  \n",
       "0       False       False        True  \n",
       "1        True       False       False  \n",
       "2       False       False        True  \n",
       "3       False       False        True  \n",
       "4       False       False        True  "
      ]
     },
     "execution_count": 567,
     "metadata": {},
     "output_type": "execute_result"
    }
   ],
   "source": [
    "df = df[['Survived', 'Age', 'Sex', 'Pclass', 'Embarked' ]]\n",
    "df = pd.get_dummies(df, columns=['Sex', 'Pclass', 'Embarked'])\n",
    "df.dropna(inplace=True)\n",
    "df.head()"
   ]
  },
  {
   "cell_type": "code",
   "execution_count": 568,
   "id": "93231e14-2a6a-4af1-aed6-9543cb05dc57",
   "metadata": {},
   "outputs": [],
   "source": [
    "from sklearn.datasets import load_breast_cancer\n",
    "from sklearn.model_selection import train_test_split\n",
    "from sklearn.dummy import DummyClassifier\n",
    "from sklearn.linear_model import LogisticRegression\n",
    "from sklearn.metrics import accuracy_score"
   ]
  },
  {
   "cell_type": "code",
   "execution_count": 569,
   "id": "daf25cc7-1a07-4f8b-b70c-995cb495f0c3",
   "metadata": {},
   "outputs": [],
   "source": [
    "X = df.drop(columns = 'Survived')\n",
    "y = df[\"Survived\"]\n",
    "X_train, X_test, y_train, y_test = train_test_split(X, y, random_state = 2025, test_size =0.5)"
   ]
  },
  {
   "cell_type": "code",
   "execution_count": 570,
   "id": "dff00371-6588-4814-954d-1501f765a89e",
   "metadata": {},
   "outputs": [],
   "source": [
    "dummy_clf = DummyClassifier(strategy=\"most_frequent\") #измерение качества константного предсказания\n",
    "dummy_clf.fit(X_train, y_train);"
   ]
  },
  {
   "cell_type": "code",
   "execution_count": 571,
   "id": "63ce8bbf-2f00-45dd-93aa-f4e6248d1754",
   "metadata": {},
   "outputs": [
    {
     "data": {
      "text/plain": [
       "0.5882352941176471"
      ]
     },
     "execution_count": 571,
     "metadata": {},
     "output_type": "execute_result"
    }
   ],
   "source": [
    "y_pred_dc = dummy_clf.predict(X_test)\n",
    "accuracy_score(y_test, y_pred_dc)"
   ]
  },
  {
   "cell_type": "code",
   "execution_count": 572,
   "id": "86fc5a47-94a2-4e24-b4b7-c5323a5939b9",
   "metadata": {},
   "outputs": [
    {
     "name": "stdout",
     "output_type": "stream",
     "text": [
      "Precision for DummyClassifier: 0.0\n",
      "Recall for DummyClassifier: 0.0\n"
     ]
    }
   ],
   "source": [
    "from sklearn.metrics import f1_score, fbeta_score\n",
    "from sklearn.metrics import confusion_matrix, precision_score, recall_score\n",
    "print(f'Precision for DummyClassifier: {precision_score(y_test, y_pred_dc, zero_division=0)}')\n",
    "print(f'Recall for DummyClassifier: {recall_score(y_test, y_pred_dc)}')"
   ]
  },
  {
   "cell_type": "code",
   "execution_count": 573,
   "id": "a13637d0-f556-4d2d-b20b-ccff4146d48a",
   "metadata": {},
   "outputs": [
    {
     "name": "stdout",
     "output_type": "stream",
     "text": [
      "F1-score for DummyClassifier: 0.0\n",
      "Fbeta-score for DummyClassifier (recall bias): 0.0\n",
      "Fbeta-score for DummyClassifier (precision bias): 0.0\n"
     ]
    }
   ],
   "source": [
    "\n",
    "print(f'F1-score for DummyClassifier: {f1_score(y_test, y_pred_dc)}')\n",
    "print(f'Fbeta-score for DummyClassifier (recall bias): {fbeta_score(y_test, y_pred_dc, beta=2)}')\n",
    "print(f'Fbeta-score for DummyClassifier (precision bias): {fbeta_score(y_test, y_pred_dc, beta=0.5)}')"
   ]
  },
  {
   "cell_type": "code",
   "execution_count": 574,
   "id": "ad41a462-6d38-4084-a081-2257b5913633",
   "metadata": {},
   "outputs": [],
   "source": [
    "log_reg = LogisticRegression() # переходим к логистической регрессии\n",
    "log_reg.fit(X_train, y_train);"
   ]
  },
  {
   "cell_type": "code",
   "execution_count": 575,
   "id": "0296b72b-3d4a-42c3-acef-4f8fee3f48fa",
   "metadata": {},
   "outputs": [
    {
     "data": {
      "text/plain": [
       "0.7983193277310925"
      ]
     },
     "execution_count": 575,
     "metadata": {},
     "output_type": "execute_result"
    }
   ],
   "source": [
    "y_pred = log_reg.predict(X_test)\n",
    "accuracy_score(y_test, y_pred)"
   ]
  },
  {
   "cell_type": "code",
   "execution_count": 576,
   "id": "6951a1cd-1e7a-4b66-a3c6-86412b755552",
   "metadata": {},
   "outputs": [
    {
     "data": {
      "text/plain": [
       "array([0.81111111, 0.74157303, 0.75280899, 0.79775281])"
      ]
     },
     "execution_count": 576,
     "metadata": {},
     "output_type": "execute_result"
    }
   ],
   "source": [
    "from sklearn.model_selection import cross_val_score #кросс-валидация\n",
    "cross_val_score(log_reg, X_train, y_train, cv=4)"
   ]
  },
  {
   "cell_type": "code",
   "execution_count": 577,
   "id": "e5b2dc9e-0fdb-48d7-a7d9-94c37ca9f717",
   "metadata": {},
   "outputs": [
    {
     "name": "stdout",
     "output_type": "stream",
     "text": [
      "Precision for Logistic regression: 0.7697841726618705\n",
      "Recall for Logistic regression: 0.7278911564625851\n"
     ]
    }
   ],
   "source": [
    "print(f'Precision for Logistic regression: {precision_score(y_test, y_pred, zero_division=0)}')\n",
    "print(f'Recall for Logistic regression: {recall_score(y_test, y_pred)}')"
   ]
  },
  {
   "cell_type": "code",
   "execution_count": 578,
   "id": "2561a415-b93c-417f-9418-bcb709a5488b",
   "metadata": {},
   "outputs": [
    {
     "name": "stdout",
     "output_type": "stream",
     "text": [
      "F1-score for Logistic regression: 0.7482517482517482\n",
      "Fbeta-score for Logistic regression (recall bias): 0.7359009628610729\n",
      "Fbeta-score for Logistic regression (precision bias): 0.7610241820768137\n"
     ]
    }
   ],
   "source": [
    "from sklearn.metrics import f1_score, fbeta_score\n",
    "print(f'F1-score for Logistic regression: {f1_score(y_test, y_pred)}')\n",
    "print(f'Fbeta-score for Logistic regression (recall bias): {fbeta_score(y_test, y_pred, beta=2)}')\n",
    "print(f'Fbeta-score for Logistic regression (precision bias): {fbeta_score(y_test, y_pred, beta=0.5)}')"
   ]
  },
  {
   "cell_type": "code",
   "execution_count": 579,
   "id": "cc60faca-ad49-4f6a-bd7e-e00a67ea561f",
   "metadata": {},
   "outputs": [
    {
     "name": "stdout",
     "output_type": "stream",
     "text": [
      "              precision    recall  f1-score   support\n",
      "\n",
      "           0       0.82      0.85      0.83       210\n",
      "           1       0.77      0.73      0.75       147\n",
      "\n",
      "    accuracy                           0.80       357\n",
      "   macro avg       0.79      0.79      0.79       357\n",
      "weighted avg       0.80      0.80      0.80       357\n",
      "\n"
     ]
    }
   ],
   "source": [
    "from sklearn.metrics import classification_report\n",
    "print(classification_report(y_test, y_pred))"
   ]
  },
  {
   "cell_type": "code",
   "execution_count": 580,
   "id": "4b80bd2f-7d99-412f-af37-08a5a3a4b9bd",
   "metadata": {},
   "outputs": [
    {
     "data": {
      "image/png": "[encoded data removed]",
      "text/plain": [
       "<Figure size 640x480 with 1 Axes>"
      ]
     },
     "metadata": {},
     "output_type": "display_data"
    }
   ],
   "source": [
    "from sklearn.metrics import precision_recall_curve\n",
    "import matplotlib.pyplot as plt\n",
    "import numpy as np\n",
    "y_pred = log_reg.predict_proba(X_test)[:, 1]\n",
    "precision, recall, thresholds = precision_recall_curve(y_test, y_pred)\n",
    "no_skill = len(y_test[y_test == 1]) / len(y_test)\n",
    "plt.plot([0,1], [no_skill, no_skill], linestyle='--', label='No Skill')\n",
    "plt.plot(recall, precision, marker='.', label='Logistic')\n",
    "plt.xlabel('Recall')\n",
    "plt.ylabel('Precision')\n",
    "plt.legend()\n",
    "plt.grid()\n",
    "plt.show()"
   ]
  },
  {
   "cell_type": "code",
   "execution_count": 581,
   "id": "cc61ea77-1d15-4997-a547-304634a6aa4a",
   "metadata": {},
   "outputs": [
    {
     "data": {
      "image/png": "[encoded data removed]",
      "text/plain": [
       "<Figure size 640x480 with 1 Axes>"
      ]
     },
     "metadata": {},
     "output_type": "display_data"
    },
    {
     "name": "stdout",
     "output_type": "stream",
     "text": [
      "AUC: 0.857\n"
     ]
    }
   ],
   "source": [
    "from sklearn.metrics import roc_curve, auc, roc_auc_score\n",
    "fpr, tpr, _ = roc_curve(y_test,  y_pred)\n",
    "\n",
    "# построение ROC кривой\n",
    "plt.plot(fpr, tpr)\n",
    "plt.ylabel('True Positive Rate')\n",
    "plt.xlabel('False Positive Rate')\n",
    "plt.show()\n",
    "auc = roc_auc_score(y_test, y_pred)\n",
    "print(\"AUC: %.3f\" % auc)"
   ]
  },
  {
   "cell_type": "markdown",
   "id": "4c074d03-3c8c-461d-aef5-ad8a4f953d3e",
   "metadata": {},
   "source": [
    "На основе обученной ML-модели мы получили достаточно высокое значение изученных метрик (F1-score - наиболее важна в данном случае), а также меры AUC и достаточно большую площадь под ROC-кривой, что говорит нам о том, что модель достаточно неплохо справляется со своей задачей классификации. Несмотря на то, что считается, что в условиях дисбаланса классов данная метрика несколько завышает качество модели, на мой взгляд в данном случае дисбаланс классов не сильно существенный.\n"
   ]
  },
  {
   "cell_type": "markdown",
   "id": "ba8ae784-cdae-4967-984e-3fe3b1f3cd66",
   "metadata": {},
   "source": [
    "Попытаемся предсказать выжила бы девушка 25 лет, котрая относилась к первому классу, у которой порт посадки был S = Southampton."
   ]
  },
  {
   "cell_type": "code",
   "execution_count": 596,
   "id": "c69ee390-ba43-4610-b65c-d0072d7170e8",
   "metadata": {},
   "outputs": [
    {
     "name": "stdout",
     "output_type": "stream",
     "text": [
      "Вероятность выживания: 91.5%\n"
     ]
    }
   ],
   "source": [
    "data = {\n",
    "    'Age': [25],\n",
    "    'Sex_female': [1],\n",
    "    'Sex_male': [0],\n",
    "    'Pclass_1': [1],\n",
    "    'Pclass_2': [0],\n",
    "    'Pclass_3': [0],\n",
    "    'Embarked_C': [0],\n",
    "    'Embarked_Q': [0],\n",
    "    'Embarked_S': [1],\n",
    "}\n",
    "\n",
    "girl = pd.DataFrame(data)\n",
    "log_reg.predict(girl)[0]\n",
    "probability = log_reg.predict_proba(girl)[0][1]\n",
    "print(f'Вероятность выживания: {probability:.1%}')\n",
    "\n"
   ]
  }
 ],
 "metadata": {
  "kernelspec": {
   "display_name": "Python [conda env:base] *",
   "language": "python",
   "name": "conda-base-py"
  },
  "language_info": {
   "codemirror_mode": {
    "name": "ipython",
    "version": 3
   },
   "file_extension": ".py",
   "mimetype": "text/x-python",
   "name": "python",
   "nbconvert_exporter": "python",
   "pygments_lexer": "ipython3",
   "version": "3.12.7"
  }
 },
 "nbformat": 4,
 "nbformat_minor": 5
}
